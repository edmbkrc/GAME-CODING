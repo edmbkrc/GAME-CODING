{
 "cells": [
  {
   "cell_type": "code",
   "execution_count": null,
   "id": "fbda5b84",
   "metadata": {},
   "outputs": [],
   "source": [
    "from turtle import Turtle\n",
    "\n",
    "class SkorTablosu(Turtle):\n",
    "    def __init__(self):\n",
    "        super().__init__()\n",
    "        self.skor = 0\n",
    "        self.color(\"white\")\n",
    "        self.penup()\n",
    "        self.goto(0,270)\n",
    "        self.skor_guncelle()\n",
    "        self.hideturtle()\n",
    "\n",
    "    def skor_guncelle(self):\n",
    "        self.write(f\"SKOR: {self.skor}\", align=\"center\", font=(\"Arial\", 24, \"normal\"))\n",
    "\n",
    "    def skor_arttir(self):\n",
    "        self.skor += 1\n",
    "        self.clear()\n",
    "        self.skor_guncelle()\n",
    "\n",
    "    def oyun_bitti(self):\n",
    "        self.goto(0,0)\n",
    "        self.write(\"OYUN BITTI\", align=\"center\", font=(\"Arial\", 24, \"normal\"))\n",
    "\n",
    "\n",
    "\n",
    "\n"
   ]
  }
 ],
 "metadata": {
  "kernelspec": {
   "display_name": "Python 3 (ipykernel)",
   "language": "python",
   "name": "python3"
  },
  "language_info": {
   "codemirror_mode": {
    "name": "ipython",
    "version": 3
   },
   "file_extension": ".py",
   "mimetype": "text/x-python",
   "name": "python",
   "nbconvert_exporter": "python",
   "pygments_lexer": "ipython3",
   "version": "3.11.7"
  }
 },
 "nbformat": 4,
 "nbformat_minor": 5
}
