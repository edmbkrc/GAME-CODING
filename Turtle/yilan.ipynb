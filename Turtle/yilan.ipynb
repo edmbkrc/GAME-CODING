{
 "cells": [
  {
   "cell_type": "code",
   "execution_count": null,
   "id": "c2ff1e6b",
   "metadata": {},
   "outputs": [],
   "source": [
    "from turtle import Turtle, Screen\n",
    "\n",
    "pozisyonlar = [(0, 0), (-20, 0), (-40, 0)]\n",
    "\n",
    "\n",
    "class Yilan:\n",
    "    def __init__(self):\n",
    "        self.parcalar = []\n",
    "        self.body_olustur()\n",
    "        self.bas = self.parcalar[0]\n",
    "\n",
    "    def body_olustur(self):\n",
    "        for pozisyon in pozisyonlar:\n",
    "            self.parca_ekle(pozisyon)\n",
    "\n",
    "    def parca_ekle(self, pozisyon):\n",
    "        body = Turtle(shape=\"square\")\n",
    "        body.color(\"white\")\n",
    "        body.penup()\n",
    "        body.goto(pozisyon)\n",
    "        self.parcalar.append(body)\n",
    "\n",
    "    def buyut(self):\n",
    "        self.parca_ekle(self.parcalar[-1].position())\n",
    "\n",
    "\n",
    "    def hareket_et(self):\n",
    "        for i in range(len(self.parcalar) - 1, 0, -1):\n",
    "            x = self.parcalar[i - 1].xcor()\n",
    "            y = self.parcalar[i - 1].ycor()\n",
    "            self.parcalar[i].goto(x, y)\n",
    "        self.parcalar[0].forward(20)\n",
    "\n",
    "    def yukari(self):\n",
    "        if self.bas.heading() != 270:\n",
    "            self.bas.setheading(90)\n",
    "\n",
    "    def asagi(self):\n",
    "        if self.bas.heading() != 90:\n",
    "            self.bas.setheading(270)\n",
    "\n",
    "    def sola(self):\n",
    "        if self.bas.heading() != 0:\n",
    "            self.bas.setheading(180)\n",
    "\n",
    "    def saga(self):\n",
    "        if self.bas.heading() != 180:\n",
    "            self.bas.setheading(0)"
   ]
  },
  {
   "cell_type": "code",
   "execution_count": null,
   "id": "c7c6bf7f",
   "metadata": {},
   "outputs": [],
   "source": []
  },
  {
   "cell_type": "code",
   "execution_count": null,
   "id": "5ae44693",
   "metadata": {},
   "outputs": [],
   "source": []
  }
 ],
 "metadata": {
  "kernelspec": {
   "display_name": "Python 3 (ipykernel)",
   "language": "python",
   "name": "python3"
  },
  "language_info": {
   "codemirror_mode": {
    "name": "ipython",
    "version": 3
   },
   "file_extension": ".py",
   "mimetype": "text/x-python",
   "name": "python",
   "nbconvert_exporter": "python",
   "pygments_lexer": "ipython3",
   "version": "3.11.7"
  }
 },
 "nbformat": 4,
 "nbformat_minor": 5
}
